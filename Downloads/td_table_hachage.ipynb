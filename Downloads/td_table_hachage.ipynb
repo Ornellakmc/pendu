{
 "cells": [
  {
   "cell_type": "markdown",
   "metadata": {
    "deletable": false,
    "editable": false,
    "run_control": {
     "frozen": true
    }
   },
   "source": [
    "# TD : Tables de hachage"
   ]
  },
  {
   "cell_type": "markdown",
   "metadata": {
    "deletable": false,
    "editable": false,
    "run_control": {
     "frozen": true
    }
   },
   "source": [
    "## Exercice 1 : Opérations de base dans une 1ère table de hachage "
   ]
  },
  {
   "cell_type": "markdown",
   "id": "a7fa6e1f",
   "metadata": {},
   "source": []
  },
  {
   "cell_type": "markdown",
   "metadata": {
    "deletable": false,
    "editable": false,
    "run_control": {
     "frozen": true
    }
   },
   "source": [
    "On utilise comme table de hachage un tableau de 10 cases où la case d'indice `i` contient l'ensemble des nombres terminant par le chiffre `i`."
   ]
  },
  {
   "cell_type": "markdown",
   "metadata": {
    "deletable": false,
    "editable": false,
    "run_control": {
     "frozen": true
    }
   },
   "source": [
    "### Question 1  :  La recherche\n",
    "\n",
    "- Définir une fonction `rechercher` qui prend en paramètre une table de hachage et un entier et renvoie `True` si l'entier est dans la table, et `False` sinon. "
   ]
  },
  {
   "cell_type": "code",
   "execution_count": 1,
   "metadata": {
    "tags": [
     "answer"
    ]
   },
   "outputs": [
    {
     "name": "stdout",
     "output_type": "stream",
     "text": [
      "True\n",
      "False\n"
     ]
    }
   ],
   "source": [
    "def rechercher(table_hachage, valeur):\n",
    "    \"\"\"\n",
    "    Vérifie si une valeur est présente dans la table de hachage.\n",
    "    \n",
    "    :param table_hachage: Un ensemble (set) ou un dictionnaire (dict) utilisé comme table de hachage.\n",
    "    :param valeur: L'entier à rechercher.\n",
    "    :return: True si la valeur est dans la table, False sinon.\n",
    "    \"\"\"\n",
    "    return valeur in table_hachage\n",
    "\n",
    "table = {5, 12, 34, 7, 89}\n",
    "print(rechercher(table, 12))\n",
    "print(rechercher(table, 8))\n",
    "\n",
    "\n",
    "\n"
   ]
  },
  {
   "cell_type": "markdown",
   "metadata": {
    "deletable": false,
    "editable": false,
    "run_control": {
     "frozen": true
    }
   },
   "source": [
    "### Question 2 : L'ajout  \n",
    "\n",
    "- Définir une fonction `ajouter` qui prend en paramètre une table de hachage et un entier et ajoute cet entier dans la table s'il n'existe pas. "
   ]
  },
  {
   "cell_type": "code",
   "execution_count": 2,
   "metadata": {
    "tags": [
     "answer"
    ]
   },
   "outputs": [
    {
     "name": "stdout",
     "output_type": "stream",
     "text": [
      "{5: True, 10: True}\n"
     ]
    }
   ],
   "source": [
    "def ajouter(table_hachage, entier):\n",
    "    \"\"\"\n",
    "    Ajoute un entier dans la table de hachage s'il n'existe pas déjà.\n",
    "    \n",
    "    :param table_hachage: Dictionnaire servant de table de hachage\n",
    "    :param entier: Entier à ajouter\n",
    "    \"\"\"\n",
    "    if entier not in table_hachage:\n",
    "        table_hachage[entier] = True\n",
    "\n",
    "hash_table = {}\n",
    "ajouter(hash_table, 5)\n",
    "ajouter(hash_table, 10)\n",
    "ajouter(hash_table, 5)\n",
    "print(hash_table)\n",
    "\n",
    "\n",
    "\n"
   ]
  },
  {
   "cell_type": "markdown",
   "metadata": {
    "deletable": false,
    "editable": false,
    "run_control": {
     "frozen": true
    }
   },
   "source": [
    "### Question  3  : La suppression\n",
    "\n",
    "- Définir une fonction `supprimer` qui prend en paramètre une table de hachage et un entier et supprime cet entier dans la table s'il est présent.\n",
    "\n",
    "**Remarque :** On utilisera la fonction `L.pop()` qui supprime le dernier élément de la table `L`."
   ]
  },
  {
   "cell_type": "code",
   "execution_count": 3,
   "metadata": {
    "tags": [
     "answer"
    ]
   },
   "outputs": [
    {
     "name": "stdout",
     "output_type": "stream",
     "text": [
      "{10: True}\n"
     ]
    }
   ],
   "source": [
    "def ajouter(table_hachage, entier):\n",
    "    \"\"\"\n",
    "    Ajoute un entier dans la table de hachage s'il n'existe pas déjà.\n",
    "    \n",
    "    :param table_hachage: Dictionnaire servant de table de hachage\n",
    "    :param entier: Entier à ajouter\n",
    "    \"\"\"\n",
    "    if entier not in table_hachage:\n",
    "        table_hachage[entier] = True\n",
    "\n",
    "def supprimer(table_hachage, entier):\n",
    "    \"\"\"\n",
    "    Supprime un entier de la table de hachage s'il est présent.\n",
    "    \n",
    "    :param table_hachage: Dictionnaire servant de table de hachage\n",
    "    :param entier: Entier à supprimer\n",
    "    \"\"\"\n",
    "    if entier in table_hachage:\n",
    "        table_hachage.pop(entier)\n",
    "\n",
    "hash_table = {}\n",
    "ajouter(hash_table, 5)\n",
    "ajouter(hash_table, 10)\n",
    "ajouter(hash_table, 5)\n",
    "supprimer(hash_table, 5)\n",
    "print(hash_table)\n",
    "\n",
    "\n",
    "\n"
   ]
  },
  {
   "cell_type": "markdown",
   "metadata": {
    "deletable": false,
    "editable": false,
    "run_control": {
     "frozen": true
    }
   },
   "source": [
    "## Exercice 2 : Opérations de base dans une 2ème table de hachage "
   ]
  },
  {
   "cell_type": "markdown",
   "metadata": {
    "deletable": false,
    "editable": false,
    "run_control": {
     "frozen": true
    }
   },
   "source": [
    "### Question 1 : La recherche \n",
    "\n",
    "- Définir une fonction `rechercher2` qui prend en paramètre une table de hachage et une valeur et renvoie `True` si la valeur est dans la table, et `False` sinon. On ne fait pas d'hypothèse sur le nombre de cases de la table. La fonction de hachage est celle définie en cours.\n",
    "\n",
    "**Remarque :** Si la valeur que l'on veut stocker dans la table est entière, il suffit de transformer l'entier en une chaîne de caractères avec `str(entier)`."
   ]
  },
  {
   "cell_type": "code",
   "execution_count": null,
   "metadata": {
    "tags": [
     "removeFromLatex"
    ]
   },
   "outputs": [],
   "source": [
    "# Fonction de hachage définie en cours\n",
    "\n",
    "def hachage(str):\n",
    "    nombre = 0\n",
    "    i = 0\n",
    "    while i < len(str):\n",
    "        nombre += ord(str[i])\n",
    "        i += 1\n",
    "    return nombre"
   ]
  },
  {
   "cell_type": "code",
   "execution_count": 4,
   "metadata": {
    "tags": [
     "answer"
    ]
   },
   "outputs": [
    {
     "name": "stdout",
     "output_type": "stream",
     "text": [
      "{10: True}\n",
      "True\n",
      "False\n"
     ]
    }
   ],
   "source": [
    "def ajouter(table_hachage, entier):\n",
    "    if entier not in table_hachage:\n",
    "        table_hachage[entier] = True\n",
    "\n",
    "def supprimer(table_hachage, entier):\n",
    "    if entier in table_hachage:\n",
    "        table_hachage.pop(entier)\n",
    "\n",
    "def rechercher2(table_hachage, valeur):\n",
    "    return valeur in table_hachage\n",
    "\n",
    "hash_table = {}\n",
    "ajouter(hash_table, 5)\n",
    "ajouter(hash_table, 10)\n",
    "ajouter(hash_table, 5)\n",
    "supprimer(hash_table, 5)\n",
    "print(hash_table)\n",
    "print(rechercher2(hash_table, 10))\n",
    "print(rechercher2(hash_table, 5))\n",
    "\n",
    "\n",
    "\n"
   ]
  },
  {
   "cell_type": "markdown",
   "metadata": {
    "deletable": false,
    "editable": false,
    "run_control": {
     "frozen": true
    }
   },
   "source": [
    "### Question 2 : L'ajout \n",
    "\n",
    "- Définir une fonction `ajouter2` qui prend en paramètre une table de hachage et une valeur et ajoute cette valeur dans la table si elle n'existe pas.  On ne fait pas d'hypothèse sur le nombre de cases de la table. La fonction de hachage est celle définie en cours."
   ]
  },
  {
   "cell_type": "code",
   "execution_count": 5,
   "metadata": {
    "tags": [
     "answer"
    ]
   },
   "outputs": [
    {
     "name": "stdout",
     "output_type": "stream",
     "text": [
      "{10: True, 'test': True}\n",
      "True\n",
      "False\n"
     ]
    }
   ],
   "source": [
    "def ajouter(table_hachage, entier):\n",
    "    if entier not in table_hachage:\n",
    "        table_hachage[entier] = True\n",
    "\n",
    "def ajouter2(table_hachage, valeur):\n",
    "    if valeur not in table_hachage:\n",
    "        table_hachage[valeur] = True\n",
    "\n",
    "def supprimer(table_hachage, entier):\n",
    "    if entier in table_hachage:\n",
    "        table_hachage.pop(entier)\n",
    "\n",
    "def rechercher2(table_hachage, valeur):\n",
    "    return valeur in table_hachage\n",
    "\n",
    "hash_table = {}\n",
    "ajouter(hash_table, 5)\n",
    "ajouter(hash_table, 10)\n",
    "ajouter(hash_table, 5)\n",
    "ajouter2(hash_table, \"test\")\n",
    "supprimer(hash_table, 5)\n",
    "print(hash_table)\n",
    "print(rechercher2(hash_table, 10))\n",
    "print(rechercher2(hash_table, 5))\n",
    "\n",
    "\n",
    "\n"
   ]
  },
  {
   "cell_type": "markdown",
   "metadata": {
    "deletable": false,
    "editable": false,
    "run_control": {
     "frozen": true
    }
   },
   "source": [
    "### Question 3 : La suppression  \n",
    "- Définir une fonction `supprimer2` qui prend en paramètre une table de hachage et un entier et supprime cet entier dans la table s'il existe. \n",
    "\n",
    "On ne fait pas d'hypothèse sur le nombre de cases de la table. La fonction de hachage est celle définie en cours.\n",
    "\n",
    "**Remarque :** on utilisera la fonction `L.pop()` qui supprime le dernier élément de la table `L`."
   ]
  },
  {
   "cell_type": "code",
   "execution_count": 6,
   "metadata": {
    "tags": [
     "answer"
    ]
   },
   "outputs": [
    {
     "name": "stdout",
     "output_type": "stream",
     "text": [
      "{10: True}\n",
      "False\n",
      "False\n"
     ]
    }
   ],
   "source": [
    "def ajouter(table_hachage, entier):\n",
    "    if entier not in table_hachage:\n",
    "        table_hachage[entier] = True\n",
    "\n",
    "def ajouter2(table_hachage, valeur):\n",
    "    if valeur not in table_hachage:\n",
    "        table_hachage[valeur] = True\n",
    "\n",
    "def supprimer(table_hachage, entier):\n",
    "    if entier in table_hachage:\n",
    "        table_hachage.pop(entier)\n",
    "\n",
    "def supprimer2(table_hachage, entier):\n",
    "    if str(entier) in table_hachage:\n",
    "        table_hachage.pop(str(entier))\n",
    "\n",
    "def rechercher2(table_hachage, valeur):\n",
    "    return str(valeur) in table_hachage\n",
    "\n",
    "hash_table = {}\n",
    "ajouter(hash_table, 5)\n",
    "ajouter(hash_table, 10)\n",
    "ajouter(hash_table, 5)\n",
    "ajouter2(hash_table, \"test\")\n",
    "supprimer(hash_table, 5)\n",
    "supprimer2(hash_table, \"test\")\n",
    "print(hash_table)\n",
    "print(rechercher2(hash_table, 10))\n",
    "print(rechercher2(hash_table, 5))\n",
    "\n",
    "\n"
   ]
  },
  {
   "cell_type": "markdown",
   "metadata": {
    "deletable": false,
    "editable": false,
    "run_control": {
     "frozen": true
    }
   },
   "source": [
    "## Exercice 3 : Hachage fermé (ou à adressage ouvert)\n",
    "\n",
    "\n",
    "Dans cet exercice, on suppose que l'on stocke dans les cases de la table de hachage des valeurs et non des tableaux de valeurs (on peut donc mettre au plus une valeur dans chaque case de la table). Il faut alors une méthode pour gérer les *collisions* (cas où plusieurs éléments à stocker ont la même valeur de hachage).\n",
    "\n",
    "Lorque l'on essaie d'insérer un nouvel est élément et que la case où on veut le mettre est déjà occupée, il faut essayer de le placer dans une autre case, et ainsi de suite jusqu'à en trouver une libre. On dit alors que l'on *sonde* la table pour trouver une case libre. Dans ces conditions, la fonction de hachage prend un argument supplémentaire qui compte le nombre de tentatives infructueuses pour trouver une case libre.\n",
    "\n",
    "### Question 1 : Sondage linéaire \n",
    "\n",
    "Dans le cas du *sondage linéaire*, on avance dans le tableau d'un nombre fixe de cases (souvent une case) à chaque fois jusqu'à trouver une case vide. Si le pas est un, la fonction de hachage s'écrit $h(k,i)= h_1(k)+i$ où $h_1$ est un fonction de hachage simple et $i$ est le nombre de tentatives pour trouver une case vide.\n",
    "\n",
    "- Éxécuter à la main l'algorithme d'insertion dans une table de taille `m=9` des  valeurs 5, 28, 19, 15, 20, 33, 12, 17 en utilsant la fonction $h_1(k)=k \\mod 9$.\n",
    "- Écrire les fonctions permettant d'insérer et de rechercher une valeur dans une table de hachage de taille `m` avec la fonction de hachage à sondage linéaire qui vient d'être décrite. \n",
    "- Que se passe-t-il si l'on supprime des valeurs dans la table ? Comment peut-on résoudre ce problème ?"
   ]
  },
  {
   "cell_type": "markdown",
   "metadata": {
    "deletable": false,
    "run_control": {
     "frozen": false
    },
    "tags": [
     "answer"
    ]
   },
   "source": [
    "**Réponse :** Écrire votre réponse ici.\n",
    "\n",
    "\n"
   ]
  },
  {
   "cell_type": "code",
   "execution_count": 7,
   "metadata": {
    "tags": [
     "answer"
    ]
   },
   "outputs": [
    {
     "name": "stdout",
     "output_type": "stream",
     "text": [
      "{10: True}\n",
      "False\n",
      "False\n"
     ]
    }
   ],
   "source": [
    "def ajouter(table_hachage, entier):\n",
    "    if entier not in table_hachage:\n",
    "        table_hachage[entier] = True\n",
    "\n",
    "def ajouter2(table_hachage, valeur):\n",
    "    if valeur not in table_hachage:\n",
    "        table_hachage[valeur] = True\n",
    "\n",
    "def supprimer(table_hachage, entier):\n",
    "    if entier in table_hachage:\n",
    "        table_hachage.pop(entier)\n",
    "\n",
    "def supprimer2(table_hachage, entier):\n",
    "    if str(entier) in table_hachage:\n",
    "        table_hachage.pop(str(entier))\n",
    "\n",
    "def rechercher2(table_hachage, valeur):\n",
    "    return str(valeur) in table_hachage\n",
    "\n",
    "hash_table = {}\n",
    "ajouter(hash_table, 5)\n",
    "ajouter(hash_table, 10)\n",
    "ajouter(hash_table, 5)\n",
    "ajouter2(hash_table, \"test\")\n",
    "supprimer(hash_table, 5)\n",
    "supprimer2(hash_table, \"test\")\n",
    "print(hash_table)\n",
    "print(rechercher2(hash_table, 10))\n",
    "print(rechercher2(hash_table, 5))\n",
    "\n",
    "\n"
   ]
  },
  {
   "cell_type": "markdown",
   "metadata": {
    "deletable": false,
    "run_control": {
     "frozen": false
    },
    "tags": [
     "answer"
    ]
   },
   "source": [
    "**Réponse :** Écrire votre réponse ici.\n",
    "\n",
    "\n"
   ]
  },
  {
   "cell_type": "markdown",
   "metadata": {
    "deletable": false,
    "editable": false,
    "run_control": {
     "frozen": true
    }
   },
   "source": [
    "### Question 2 : Double hachage\n",
    "\n",
    "Le sondage linéaire présente un gros inconvénient. Même si la fonction de hachage répartit les clés uniformément dans la table, la résolution des collisions a tendance à former des \"paquets\" de valeurs ce qui conduit à rapidement augmenter le nombre de recherches infructueuses.\n",
    "\n",
    "Une solution pour résoudre le problème des \"paquets\" est de modifier la méthode de sondage pour que les cases sondées soient éloignées de manière variable. Le double hachage est l'une des meilleurs méthodes connues pour cela. Il utilise une fonction de hachage de la forme $h(k,i)=h_1(k)+ih_2(k) \\mod m$ où $h_1$  et $h_2$ sont des  fonctions de hachage auxiliaires simples.\n",
    "\n",
    "- Insérer les valeurs de la Question 1 dans une table de taille $m=13$ en utilisant un double hachage où $h_1(k)= k \\mod 13$ et $h_2(k)=1+ (k \\mod 12).$ \n",
    "- Que se passe-t-il si $h_2(k)$ et $m$ ne sont pas premiers entre eux ? En quoi est-ce gênant ?  Comment y remédier ? "
   ]
  },
  {
   "cell_type": "markdown",
   "metadata": {
    "deletable": false,
    "run_control": {
     "frozen": false
    },
    "tags": [
     "answer"
    ]
   },
   "source": [
    "**Réponse :** Écrire votre réponse ici.\n",
    "\n",
    "\n"
   ]
  },
  {
   "cell_type": "code",
   "execution_count": 8,
   "id": "c8f11016",
   "metadata": {},
   "outputs": [
    {
     "name": "stdout",
     "output_type": "stream",
     "text": [
      "Inséré 5 à l'indice 5\n",
      "Inséré 28 à l'indice 2\n",
      "Inséré 19 à l'indice 6\n",
      "Inséré 15 à l'indice 10\n",
      "Inséré 20 à l'indice 7\n",
      "Inséré 33 à l'indice 4\n",
      "Inséré 12 à l'indice 12\n",
      "Inséré 17 à l'indice 3\n",
      "Recherche de 15: True\n",
      "Recherche de 100: False\n",
      "Supprimé 15 de l'indice 10\n",
      "Élément 100 non trouvé dans la table\n"
     ]
    }
   ],
   "source": [
    "class HashTable:\n",
    "    def __init__(self, size):\n",
    "        self.size = size\n",
    "        self.table = [None] * size\n",
    "    \n",
    "    def h1(self, k):\n",
    "        # Fonction de hachage primaire\n",
    "        return k % self.size\n",
    "    \n",
    "    def h2(self, k):\n",
    "        # Fonction de hachage secondaire\n",
    "        return 1 + (k % (self.size - 1))\n",
    "    \n",
    "    def insert(self, k):\n",
    "        # Insertion avec double hachage\n",
    "        i = 0\n",
    "        index = self.h1(k)\n",
    "        \n",
    "        while self.table[index] is not None:\n",
    "            i += 1\n",
    "            index = (self.h1(k) + i * self.h2(k)) % self.size\n",
    "            \n",
    "            # Si nous avons sondé toutes les cases, nous avons échoué\n",
    "            if i == self.size:\n",
    "                print(\"Table pleine, impossible d'ajouter l'élément\", k)\n",
    "                return\n",
    "        self.table[index] = k\n",
    "        print(f\"Inséré {k} à l'indice {index}\")\n",
    "    \n",
    "    def search(self, k):\n",
    "        # Recherche avec double hachage\n",
    "        i = 0\n",
    "        index = self.h1(k)\n",
    "        \n",
    "        while self.table[index] is not None:\n",
    "            if self.table[index] == k:\n",
    "                return True\n",
    "            i += 1\n",
    "            index = (self.h1(k) + i * self.h2(k)) % self.size\n",
    "        \n",
    "        return False\n",
    "    \n",
    "    def delete(self, k):\n",
    "        # Suppression avec double hachage\n",
    "        i = 0\n",
    "        index = self.h1(k)\n",
    "        \n",
    "        while self.table[index] is not None:\n",
    "            if self.table[index] == k:\n",
    "                self.table[index] = None\n",
    "                print(f\"Supprimé {k} de l'indice {index}\")\n",
    "                return\n",
    "            i += 1\n",
    "            index = (self.h1(k) + i * self.h2(k)) % self.size\n",
    "        \n",
    "        print(f\"Élément {k} non trouvé dans la table\")\n",
    "        \n",
    "# Test des fonctions\n",
    "hash_table = HashTable(13)\n",
    "\n",
    "# Insertion des valeurs : 5, 28, 19, 15, 20, 33, 12, 17\n",
    "values_to_insert = [5, 28, 19, 15, 20, 33, 12, 17]\n",
    "for value in values_to_insert:\n",
    "    hash_table.insert(value)\n",
    "\n",
    "# Recherche de certains éléments\n",
    "print(\"Recherche de 15:\", hash_table.search(15))  # Devrait retourner True\n",
    "print(\"Recherche de 100:\", hash_table.search(100))  # Devrait retourner False\n",
    "\n",
    "# Suppression d'un élément\n",
    "hash_table.delete(15)  # Devrait supprimer l'élément 15\n",
    "hash_table.delete(100)  # Devrait indiquer que l'élément 100 n'est pas trouvé\n"
   ]
  },
  {
   "cell_type": "markdown",
   "id": "e01bf6bc",
   "metadata": {},
   "source": []
  }
 ],
 "metadata": {
  "celltoolbar": "Éditer les Méta-Données",
  "kernelspec": {
   "display_name": "Python 3",
   "language": "python",
   "name": "python3"
  },
  "language_info": {
   "codemirror_mode": {
    "name": "ipython",
    "version": 3
   },
   "file_extension": ".py",
   "mimetype": "text/x-python",
   "name": "python",
   "nbconvert_exporter": "python",
   "pygments_lexer": "ipython3",
   "version": "3.9.6"
  },
  "toc": {
   "base_numbering": 1,
   "nav_menu": {},
   "number_sections": false,
   "sideBar": false,
   "skip_h1_title": false,
   "title_cell": "Table of Contents",
   "title_sidebar": "Contents",
   "toc_cell": false,
   "toc_position": {},
   "toc_section_display": false,
   "toc_window_display": false
  }
 },
 "nbformat": 4,
 "nbformat_minor": 5
}
