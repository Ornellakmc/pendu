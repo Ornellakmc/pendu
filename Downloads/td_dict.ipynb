{
 "cells": [
  {
   "cell_type": "markdown",
   "metadata": {},
   "source": [
    "# <center> Dictionnaires - TD </center>"
   ]
  },
  {
   "cell_type": "markdown",
   "metadata": {},
   "source": [
    "## Exercice 1 : Test de de compréhension*"
   ]
  },
  {
   "cell_type": "markdown",
   "metadata": {},
   "source": [
    "* Soit le dictionnaire suivant représentant des informations sur les étudiants inscrits au cours"
   ]
  },
  {
   "cell_type": "code",
   "execution_count": 11,
   "metadata": {},
   "outputs": [],
   "source": [
    "cours = {'nom cours': 'Java',\n",
    " 'theme': 'Algorithmique',\n",
    " 'etudiants': [{'nom': 'Martin', 'prenom': 'Jean', 'Dept': '95'},\n",
    "  {'nom': 'Mohamed', 'prenom': 'Ali', 'Dept': '93'},\n",
    "  {'nom': 'Durand', 'prenom': 'Bertrand', 'Dept': '95'}]}"
   ]
  },
  {
   "cell_type": "markdown",
   "metadata": {},
   "source": [
    "* Que permettent de faire les commandes suivantes ?"
   ]
  },
  {
   "cell_type": "code",
   "execution_count": 12,
   "metadata": {},
   "outputs": [
    {
     "name": "stdout",
     "output_type": "stream",
     "text": [
      "['Java', 'Algorithmique', [{'nom': 'Martin', 'prenom': 'Jean', 'Dept': '95'}, {'nom': 'Mohamed', 'prenom': 'Ali', 'Dept': '93'}, {'nom': 'Durand', 'prenom': 'Bertrand', 'Dept': '95'}]]\n"
     ]
    }
   ],
   "source": [
    "print(list(cours.values()))"
   ]
  },
  {
   "cell_type": "code",
   "execution_count": 13,
   "metadata": {},
   "outputs": [
    {
     "name": "stdout",
     "output_type": "stream",
     "text": [
      "['nom cours', 'theme', 'etudiants']\n"
     ]
    }
   ],
   "source": [
    "print(list(cours))"
   ]
  },
  {
   "cell_type": "code",
   "execution_count": 14,
   "metadata": {},
   "outputs": [
    {
     "name": "stdout",
     "output_type": "stream",
     "text": [
      "Algorithmique\n"
     ]
    }
   ],
   "source": [
    "print(cours['theme'])"
   ]
  },
  {
   "cell_type": "code",
   "execution_count": 15,
   "metadata": {},
   "outputs": [
    {
     "name": "stdout",
     "output_type": "stream",
     "text": [
      "Martin\n"
     ]
    }
   ],
   "source": [
    "tabE=cours['etudiants']\n",
    "etud= tabE[0]\n",
    "print(etud['nom'])"
   ]
  },
  {
   "cell_type": "markdown",
   "metadata": {},
   "source": [
    "**REPONSE**"
   ]
  },
  {
   "cell_type": "markdown",
   "metadata": {},
   "source": [
    "* Comment peut-on avoir les informations sur les étudiants inscrits à ce cours  ?"
   ]
  },
  {
   "cell_type": "markdown",
   "metadata": {
    "deletable": false,
    "editable": false,
    "run_control": {
     "frozen": true
    }
   },
   "source": [
    "* Qu'affiche le programme suivant ?"
   ]
  },
  {
   "cell_type": "code",
   "execution_count": 4,
   "metadata": {},
   "outputs": [
    {
     "name": "stdout",
     "output_type": "stream",
     "text": [
      "{'nom': 'Mohamed', 'prenom': 'Ali', 'Dept': '93'}\n",
      "93\n"
     ]
    }
   ],
   "source": [
    "etds=cours['etudiants']\n",
    "tmp1=etds[1]\n",
    "print(tmp1)\n",
    "pr=tmp1['Dept']\n",
    "print(pr)"
   ]
  },
  {
   "cell_type": "markdown",
   "metadata": {},
   "source": [
    "**REPONSE**"
   ]
  },
  {
   "cell_type": "markdown",
   "metadata": {
    "deletable": false,
    "editable": false,
    "run_control": {
     "frozen": true
    }
   },
   "source": [
    "* Qu'affiche cette instruction ?"
   ]
  },
  {
   "cell_type": "code",
   "execution_count": 3,
   "metadata": {},
   "outputs": [
    {
     "name": "stdout",
     "output_type": "stream",
     "text": [
      "93\n"
     ]
    }
   ],
   "source": [
    "print (cours['etudiants'][1]['Dept'])"
   ]
  },
  {
   "cell_type": "markdown",
   "metadata": {},
   "source": [
    "**REPONSE**"
   ]
  },
  {
   "cell_type": "markdown",
   "metadata": {
    "deletable": false,
    "editable": false,
    "run_control": {
     "frozen": true
    }
   },
   "source": [
    "## Exercice 2 : Planètes et satellites \n",
    "### Question 1 : Définition d'un dictionnaire"
   ]
  },
  {
   "cell_type": "markdown",
   "metadata": {
    "deletable": false,
    "editable": false,
    "run_control": {
     "frozen": true
    }
   },
   "source": [
    "Définir le dictionnaire `lunes` représenté ci-dessous. Ce dictionnaire stocke le nombre de satellites de chaque planète. Dans un premier temps, définir de façon littérale le dictionnaire pour les 4 premiers couples ``clef:valeur`` puis ajouter successivement les 4 derniers couples.\n",
    "\n",
    "clef| \"Mercure\"|\"Vénus\"|\"Terre\"|\"Mars\"|\"Jupiter\"|\"Saturne\"|\"Uranus\"|\"Neptune\"|\n",
    "----|----------|-------|-------|------|---------|---------|--------|---------|\n",
    "valeur |0|0|1|2|63|61|27|11|\n"
   ]
  },
  {
   "cell_type": "code",
   "execution_count": 1,
   "metadata": {},
   "outputs": [],
   "source": [
    "# Définition initiale avec 4 premières planètes\n",
    "lunes = {\n",
    "    \"Mercure\": 0,\n",
    "    \"Vénus\": 0,\n",
    "    \"Terre\": 1,\n",
    "    \"Mars\": 2\n",
    "}\n",
    "\n",
    "# Ajout des autres planètes\n",
    "lunes[\"Jupiter\"] = 63\n",
    "lunes[\"Saturne\"] = 61\n",
    "lunes[\"Uranus\"] = 27\n",
    "lunes[\"Neptune\"] = 11\n",
    "\n"
   ]
  },
  {
   "cell_type": "markdown",
   "metadata": {
    "deletable": false,
    "editable": false,
    "run_control": {
     "frozen": true
    }
   },
   "source": [
    "### Question 2 : Exploration d'un dictionnaire\n",
    "\n",
    "A partir du dictionnaire défini à la question précédente, proposer un programme permettant de:\n",
    "- modifier le dictionnaire précédent pour corriger une erreur qui s'est glissée dans l'énoncé : la planète `Neptune` comporte en fait 13 satellites,\n",
    "- afficher le nombre de satellites de la Terre,\n",
    "- afficher la liste des planètes,\n",
    "- afficher le nombre de satellites de chque planète,\n",
    "- afficher le nombre total de satellites."
   ]
  },
  {
   "cell_type": "code",
   "execution_count": 2,
   "metadata": {},
   "outputs": [
    {
     "name": "stdout",
     "output_type": "stream",
     "text": [
      "Nombre de satellites de la Terre : 1\n",
      "Liste des planètes : ['Mercure', 'Vénus', 'Terre', 'Mars', 'Jupiter', 'Saturne', 'Uranus', 'Neptune']\n",
      "Mercure : 0 satellites\n",
      "Vénus : 0 satellites\n",
      "Terre : 1 satellites\n",
      "Mars : 2 satellites\n",
      "Jupiter : 63 satellites\n",
      "Saturne : 61 satellites\n",
      "Uranus : 27 satellites\n",
      "Neptune : 13 satellites\n",
      "Nombre total de satellites : 167\n"
     ]
    }
   ],
   "source": [
    "lunes[\"Neptune\"] = 13\n",
    "\n",
    "print(\"Nombre de satellites de la Terre :\", lunes[\"Terre\"])\n",
    "print(\"Liste des planètes :\", list(lunes.keys()))\n",
    "\n",
    "for planete in lunes:\n",
    "    print(planete, \":\", lunes[planete], \"satellites\")\n",
    "\n",
    "total_satellites = sum(lunes.values())\n",
    "print(\"Nombre total de satellites :\", total_satellites)\n",
    "\n",
    "\n",
    "\n"
   ]
  },
  {
   "cell_type": "markdown",
   "metadata": {
    "deletable": false,
    "editable": false,
    "run_control": {
     "frozen": true
    }
   },
   "source": [
    "## Exercice 3 : Gestion d'un stock "
   ]
  },
  {
   "cell_type": "markdown",
   "metadata": {
    "deletable": false,
    "editable": false,
    "run_control": {
     "frozen": true
    }
   },
   "source": [
    "L'objectif est concevoir un programme permettant de gérer un stock d'articles. Pour cela, on doit pouvoir :\n",
    "- ajouter une référence (prix, quantité, et couleur) dans le stock,\n",
    "- calculer le prix total du stock.\n",
    "\n",
    "### Question 1 : Saisie d'une référence\n",
    "Créer une fonction ``ajout_reference()`` sans paramètre qui renvoie un dictionnaire dont les couples ``clef:valeur`` sont:\n",
    "\n",
    "| Clef |  Valeur (type) |\n",
    "-------|----------|\n",
    "|\"Prix\"| float|\n",
    "|\"Quantité\"| int|\n",
    "|\"Couleur\"| string|\n",
    "\n",
    "La fonction demandera à l'utilisateur de saisir itérativement au clavier les différentes valeurs."
   ]
  },
  {
   "cell_type": "code",
   "execution_count": 3,
   "metadata": {},
   "outputs": [],
   "source": [
    "def ajout_reference():\n",
    "    reference = {}\n",
    "    reference[\"nom\"] = input(\"Nom de l'article : \")\n",
    "    reference[\"prix\"] = float(input(\"Prix de l'article : \"))\n",
    "    reference[\"quantite\"] = int(input(\"Quantité en stock : \"))\n",
    "    reference[\"couleur\"] = input(\"Couleur de l'article : \")\n",
    "    return reference\n",
    "\n",
    "\n",
    "\n"
   ]
  },
  {
   "cell_type": "markdown",
   "metadata": {
    "deletable": false,
    "editable": false,
    "run_control": {
     "frozen": true
    }
   },
   "source": [
    "### Question 2 : Saisie et évaluation d'un stock\n",
    "Ecrire le programme principal permettant, de saisir des références tant que l'utilisateur le souhaite, de les ajouter au fur et à mesure dans un tableau, puis en fin de saisie, d'afficher le montant total du stock.\n",
    "On utilisera la fonction définie à la question précédente."
   ]
  },
  {
   "cell_type": "code",
   "execution_count": 4,
   "metadata": {},
   "outputs": [
    {
     "name": "stdout",
     "output_type": "stream",
     "text": [
      "Valeur totale du stock : 200.0\n"
     ]
    }
   ],
   "source": [
    "stock = []\n",
    "while True:\n",
    "    stock.append(ajout_reference())\n",
    "    continuer = input(\"Ajouter une autre référence ? (oui/non) : \").strip().lower()\n",
    "    if continuer != \"oui\":\n",
    "        break\n",
    "\n",
    "total_stock = sum(article[\"prix\"] * article[\"quantite\"] for article in stock)\n",
    "print(\"Valeur totale du stock :\", total_stock)\n",
    "\n"
   ]
  },
  {
   "cell_type": "markdown",
   "metadata": {
    "deletable": false,
    "editable": false,
    "run_control": {
     "frozen": true
    }
   },
   "source": [
    "## Exercice 4 :  Dictionnaire français-anglais "
   ]
  },
  {
   "cell_type": "markdown",
   "metadata": {},
   "source": [
    "### Question 1  : Création d'un dictionnaire\n",
    "\n",
    "Choisir 5 mots de la langue française et créer un dictionnaire qui associe à chacun de ces mots\n",
    "sa traduction en anglais.\n",
    "Ajouter une entrée au dictionnaire  (un nouveau mot et sa définition)."
   ]
  },
  {
   "cell_type": "code",
   "execution_count": 1,
   "metadata": {},
   "outputs": [],
   "source": [
    "dictionnaire = {\n",
    "    \"chien\": \"dog\",\n",
    "    \"chat\": \"cat\",\n",
    "    \"maison\": \"house\",\n",
    "    \"voiture\": \"car\",\n",
    "    \"pomme\": \"apple\"\n",
    "}\n",
    "\n",
    "dictionnaire[\"livre\"] = \"book\"\n",
    "\n"
   ]
  },
  {
   "cell_type": "markdown",
   "metadata": {},
   "source": [
    "### Question 2  : Fonction d'ajout \n",
    "Écrire une fonction `ajoute(mot1, mot2, dico)` qui prend en paramètre un mot en français, sa traduction\n",
    "en anglais et ajoute ces deux mots dans le dictionnaire `dico` uniquement si `mot1` n’est pas déjà une clé\n",
    "du dictionnaire.\n",
    "\n",
    "Tester cette fonction avec des valeurs judicieusement choisies."
   ]
  },
  {
   "cell_type": "code",
   "execution_count": 2,
   "metadata": {},
   "outputs": [
    {
     "name": "stdout",
     "output_type": "stream",
     "text": [
      "{'chien': 'dog', 'chat': 'cat', 'maison': 'house', 'voiture': 'car', 'pomme': 'apple', 'livre': 'book', 'soleil': 'sun'}\n"
     ]
    }
   ],
   "source": [
    "def ajoute(mot1, mot2, dico):\n",
    "    if mot1 not in dico:\n",
    "        dico[mot1] = mot2\n",
    "\n",
    "ajoute(\"soleil\", \"sun\", dictionnaire)\n",
    "ajoute(\"chat\", \"kitten\", dictionnaire)\n",
    "\n",
    "print(dictionnaire)\n"
   ]
  },
  {
   "cell_type": "markdown",
   "metadata": {},
   "source": [
    "### Question 3  : Affichage des valeurs\n",
    "Écrire une fonction qui affiche à l’écran toutes les valeurs correspondant aux clés qui sont dans\n",
    "votre dictionnaire  et l'utiliser pour réaliser l'affichage des mots anglais du dictionnaire qui a été crée."
   ]
  },
  {
   "cell_type": "code",
   "execution_count": 7,
   "metadata": {},
   "outputs": [
    {
     "name": "stdout",
     "output_type": "stream",
     "text": [
      "dog\n",
      "cat\n",
      "house\n",
      "car\n",
      "apple\n",
      "book\n",
      "sun\n"
     ]
    }
   ],
   "source": [
    "def afficher_valeurs(dico):\n",
    "    for valeur in dico.values():\n",
    "        print(valeur)\n",
    "\n",
    "afficher_valeurs(dictionnaire)\n",
    "\n"
   ]
  },
  {
   "cell_type": "markdown",
   "metadata": {},
   "source": [
    "### Question 4 : Suppression d'entrées du dictionnaire\n",
    "Écrire une fonction `supprime(car, dico)` qui prend en paramètre un caractère `car` et un dictionnaire\n",
    "`dico` et supprime du dictionnaire toutes les entrées correspondant à des clés qui commencent par la\n",
    "lettre `car`.\n",
    "\n",
    "Tester cette fonction sur le dictionnaire."
   ]
  },
  {
   "cell_type": "code",
   "execution_count": 8,
   "metadata": {},
   "outputs": [
    {
     "name": "stdout",
     "output_type": "stream",
     "text": [
      "{'maison': 'house', 'voiture': 'car', 'pomme': 'apple', 'livre': 'book', 'soleil': 'sun'}\n"
     ]
    }
   ],
   "source": [
    "def supprime(car, dico):\n",
    "    cles_a_supprimer = [cle for cle in dico if cle.startswith(car)]\n",
    "    for cle in cles_a_supprimer:\n",
    "        del dico[cle]\n",
    "\n",
    "supprime(\"c\", dictionnaire)\n",
    "print(dictionnaire)\n"
   ]
  },
  {
   "cell_type": "markdown",
   "metadata": {},
   "source": [
    "## Exercice 5 : Codage de Morse"
   ]
  },
  {
   "cell_type": "markdown",
   "metadata": {},
   "source": [
    "Le Morse est un schéma de codage qui utilise des tirets et des points pour représenter les chiffres et les lettres. \n",
    "\n",
    "Le dictionnaire ci-dessous donne la correspondance entre les lettres et les chiffres, les tirets et les points. "
   ]
  },
  {
   "cell_type": "code",
   "execution_count": null,
   "metadata": {},
   "outputs": [],
   "source": [
    "morse_code_dict = {'A':'.-'   , 'B':'-...' , 'C':'-.-.' , 'D':'-..'  , 'E':'.'    , 'F':'..-.' , 'G':'--.'  , \n",
    "                   'H':'....' , 'I':'..'   , 'J':'.---' , 'K':'-.-'  , 'L':'.-..' , 'M':'--'   , 'N':'-.'   , \n",
    "                   'O':'---'  , 'P':'.--.' , 'Q':'--.-' , 'R':'.-.'  , 'S':'...'  , 'T':'-'    , 'U':'..-'  , \n",
    "                   'V':'...-' , 'W':'.--'  , 'X':'-..-' , 'Y':'-.--' , 'Z':'--..' , '0':'-----', '1':'.----', \n",
    "                   '2':'..---', '3':'...--', '4':'....-', '5':'.....', '6':'-....', '7':'--...', '8':'---..', \n",
    "                   '9':'----.'}"
   ]
  },
  {
   "cell_type": "markdown",
   "metadata": {},
   "source": [
    "Ecrire une fonction qui prend en paramètre un texte, transforme les minuscules en majuscules et traduit chaque lettre et chaque chiffre du texte en code Morse, en laissant un espace entre chaque suite de tirets et de points. La fonction ignorera tous les caractères qui ne sont pas des lettres ou des chiffres. \n",
    "\n",
    "Utiliser cette fonction pour coder en Morse `Hello world !`.\n",
    "\n",
    "**Rappel** : \n",
    "\n",
    "- La méthode `chaine.upper()` retourne la chaine de caractères obtenue à partir de `chaine`en remplaçant les lettres minuscules par des lettres majuscules.\n",
    "- La méthode `chaine.isalnum()` retoune `True` si tous les caractères de `chaine`sont alphanumériques (lettres ou chiffres) et qu'il y a au moins un caractère et `False` dans le cas contraire."
   ]
  },
  {
   "cell_type": "code",
   "execution_count": 10,
   "metadata": {},
   "outputs": [
    {
     "name": "stdout",
     "output_type": "stream",
     "text": [
      ".... . .-.. .-.. --- .-- --- .-. .-.. -..\n"
     ]
    }
   ],
   "source": [
    "morse_code_dict = {\n",
    "    'A': '.-', 'B': '-...', 'C': '-.-.', 'D': '-..', 'E': '.', 'F': '..-.', \n",
    "    'G': '--.', 'H': '....', 'I': '..', 'J': '.---', 'K': '-.-', 'L': '.-..', \n",
    "    'M': '--', 'N': '-.', 'O': '---', 'P': '.--.', 'Q': '--.-', 'R': '.-.', \n",
    "    'S': '...', 'T': '-', 'U': '..-', 'V': '...-', 'W': '.--', 'X': '-..-', \n",
    "    'Y': '-.--', 'Z': '--..', \n",
    "    '0': '-----', '1': '.----', '2': '..---', '3': '...--', '4': '....-', \n",
    "    '5': '.....', '6': '-....', '7': '--...', '8': '---..', '9': '----.'\n",
    "}\n",
    "\n",
    "def texte_en_morse(texte):\n",
    "    texte = texte.upper()\n",
    "    morse_code = []\n",
    "    \n",
    "    for char in texte:\n",
    "        if char.isalnum() and char in morse_code_dict:\n",
    "            morse_code.append(morse_code_dict[char])\n",
    "    \n",
    "    return ' '.join(morse_code)\n",
    "\n",
    "texte = \"Hello world !\"\n",
    "morse = texte_en_morse(texte)\n",
    "print(morse)\n"
   ]
  },
  {
   "cell_type": "code",
   "execution_count": 1,
   "metadata": {},
   "outputs": [
    {
     "ename": "SyntaxError",
     "evalue": "EOL while scanning string literal (3632701734.py, line 74)",
     "output_type": "error",
     "traceback": [
      "\u001b[0;36m  Cell \u001b[0;32mIn[1], line 74\u001b[0;36m\u001b[0m\n\u001b[0;31m    with open(\"tous_lesLmots.txt,\"r\") as fichier: #ouvre fichier mode lecture\u001b[0m\n\u001b[0m                                                                             ^\u001b[0m\n\u001b[0;31mSyntaxError\u001b[0m\u001b[0;31m:\u001b[0m EOL while scanning string literal\n"
     ]
    }
   ],
   "source": [
    "# pendu hello \n",
    "import random\n",
    "\n",
    "def dessinPendu(nb):\n",
    "    tab=[\n",
    "    \"\"\"\n",
    "       +-------+\n",
    "       |\n",
    "       |\n",
    "       |\n",
    "       |\n",
    "       |\n",
    "    ==============\n",
    "    \"\"\",\n",
    "    \"\"\"\n",
    "       +-------+\n",
    "       |       |\n",
    "       |       O\n",
    "       |\n",
    "       |\n",
    "       |\n",
    "    ==============\n",
    "    \"\"\",\n",
    "    \"\"\"\n",
    "       +-------+\n",
    "       |       |\n",
    "       |       O\n",
    "       |       |\n",
    "       |\n",
    "       |\n",
    "    ==============\n",
    "    \"\"\",\n",
    "    \"\"\"\n",
    "       +-------+\n",
    "       |       |\n",
    "       |       O\n",
    "       |      -|\n",
    "       |\n",
    "       |\n",
    "    ==============\n",
    "    \"\"\",\n",
    "    \"\"\"\n",
    "       +-------+\n",
    "       |       |\n",
    "       |       O\n",
    "       |      -|-\n",
    "       |\n",
    "       |\n",
    "    ==============\n",
    "    \"\"\",\n",
    "    \"\"\"\n",
    "       +-------+\n",
    "       |       |\n",
    "       |       O\n",
    "       |      -|-\n",
    "       |      |\n",
    "       |\n",
    "    ==============\n",
    "    \"\"\",\n",
    "    \"\"\"\n",
    "       +-------+\n",
    "       |       |\n",
    "       |       O\n",
    "       |      -|-\n",
    "       |      | |\n",
    "       |\n",
    "    ==============\n",
    "    \"\"\"\n",
    "    ]\n",
    "    return tab [nb]\n",
    "\n",
    "def liste_de_mots():\n",
    "    l=[] #liste vide pour tous les mots \n",
    "    with open(\"tous_lesLmots.txt,\"r\") as fichier: #ouvre fichier mode lecture\n",
    "        for i in fichier:  \n",
    "            l.append(i.strip()) #parcours chaque ligne et on enleve les espaces et les sauts de ligne et on ajt dans la liste l\n",
    "    return l #on retoune la liste complete des mots\n",
    "\n",
    "def choisir_hasard(fichier):\n",
    "    return random.choice(fichier).upper()  #choisir un mot au hasard dans la liste \n",
    "\n",
    "#Fonction principale du jeu \n",
    "def jeu_pendu():\n",
    "    while True: \n",
    "        mots = liste_de_mots()  #cherche une fonction non definie\n",
    "        mot_a_deviner = choisir_hasard(mots)  #choisit un mot au hasard a deviner\n",
    "        lettres_trouvees = []   #liste des lettres trouvees par les joueurs \n",
    "        lettres_envoyees = []   #listes des lettres deja essayees\n",
    "        essais_restants = 6     #nombre dessais maximum avant de perdre\n",
    "\n",
    "        print(\"bienvenue au jeu du pendu!\")  \n",
    "        print(dessinPendu((0))  #affiche le dessin du pendu correspondant a 0 erreurs\n",
    "    \n",
    "while essais_restants >0   #tant que le joueur a des essais restants\n",
    "    #affiche le mot avec les lettres trouvees et des lettres manquantes avec '*'\n",
    "    affichage_mot=' '.join([lettre if lettre in lettres-trouves else '*' for in mot_a_deviner])\n",
    "    print(\"mot a deviner :\", affichage_mot)\n",
    "    print(\"Lettres essayées:\", ', '.join[lettres_envoyees]) #affiche les lettres essayees\n",
    "          \n",
    "    #dmd une lettre a l'utilisateur \n",
    "    lettre = input(\"Proposez une lettre:\").upper()\n",
    "\n",
    "        #verif lettre ou autre\n",
    "    if len(lettre) != 1 or not lettre.isalpha(): #isalpha verifie si cest bien une lettre et non un chiffre ou symbole\n",
    "       print(\"Veuillez entrer une seule lettre.\")\n",
    "       continue \n",
    "\n",
    "    # verif lettre deja proposer ou non \n",
    "    if lettre in lettres_essayees: \n",
    "       print(\"Vous avez déja essayé cette lettre.\"\n",
    "       continue\n",
    "        #ajt la letrre a la liste des lettres qui sont éssayés\n",
    "    lettres_envoyees.append(lettre) \n",
    "\n",
    "    # verif si la lettre est dans les mots a deviner\n",
    "    if lettre in mot_a_deviner:\n",
    "        lettres_trouvees.append(lettre) #ajt la lettre aux lettres trouvées \n",
    "        print(\"Bonne lettre!)\n",
    "              else: \n",
    "                  essais_restants-=1 #diminue le nombre de tentaties restantes   \n",
    "                  print(\"Mauvaises lettres!) \n"
   ]
  },
  {
   "cell_type": "code",
   "execution_count": null,
   "metadata": {},
   "outputs": [],
   "source": []
  }
 ],
 "metadata": {
  "celltoolbar": "Format de la Cellule Texte Brut",
  "kernelspec": {
   "display_name": "Python 3",
   "language": "python",
   "name": "python3"
  },
  "language_info": {
   "codemirror_mode": {
    "name": "ipython",
    "version": 3
   },
   "file_extension": ".py",
   "mimetype": "text/x-python",
   "name": "python",
   "nbconvert_exporter": "python",
   "pygments_lexer": "ipython3",
   "version": "3.9.6"
  },
  "latex_envs": {
   "LaTeX_envs_menu_present": true,
   "autoclose": false,
   "autocomplete": true,
   "bibliofile": "biblio.bib",
   "cite_by": "apalike",
   "current_citInitial": 1,
   "eqLabelWithNumbers": true,
   "eqNumInitial": 1,
   "hotkeys": {
    "equation": "Ctrl-E",
    "itemize": "Ctrl-I"
   },
   "labels_anchors": false,
   "latex_user_defs": false,
   "report_style_numbering": false,
   "user_envs_cfg": false
  },
  "toc": {
   "base_numbering": 1,
   "nav_menu": {},
   "number_sections": true,
   "sideBar": true,
   "skip_h1_title": false,
   "title_cell": "Table of Contents",
   "title_sidebar": "Contents",
   "toc_cell": false,
   "toc_position": {},
   "toc_section_display": true,
   "toc_window_display": false
  }
 },
 "nbformat": 4,
 "nbformat_minor": 2
}
