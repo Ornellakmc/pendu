{
 "cells": [
  {
   "cell_type": "markdown",
   "metadata": {},
   "source": [
    "Exo 1"
   ]
  },
  {
   "cell_type": "code",
   "execution_count": 1,
   "metadata": {},
   "outputs": [
    {
     "name": "stdout",
     "output_type": "stream",
     "text": [
      "[1, 5, 25, 125]\n"
     ]
    }
   ],
   "source": [
    "def tableau_puissances(n, k):\n",
    "    return [n**i for i in range(k)]\n",
    "\n",
    "resultat = tableau_puissances(5, 4)\n",
    "print(resultat)"
   ]
  },
  {
   "cell_type": "markdown",
   "metadata": {},
   "source": [
    "Exo 2"
   ]
  },
  {
   "cell_type": "code",
   "execution_count": 14,
   "metadata": {},
   "outputs": [
    {
     "name": "stdout",
     "output_type": "stream",
     "text": [
      "2\n",
      "Le tableau n'a pas de valeur strictement positive\n"
     ]
    }
   ],
   "source": [
    "def derniere_valeur_positive(tab):\n",
    "    for a in range(len(tab)-1, -1, -1):\n",
    "        if tab[a] > 0:\n",
    "            print(tab[a])\n",
    "            return\n",
    "    print(\"Le tableau n'a pas de valeur strictement positive\")\n",
    "\n",
    "tab1 = [-2, 3, 0, -1, 2, 0]\n",
    "tab2 = [-2, -3, 0, -1, -2, 0]\n",
    "\n",
    "derniere_valeur_positive(tab1)\n",
    "derniere_valeur_positive(tab2)\n",
    "\n"
   ]
  },
  {
   "cell_type": "code",
   "execution_count": null,
   "metadata": {},
   "outputs": [],
   "source": []
  }
 ],
 "metadata": {
  "kernelspec": {
   "display_name": "Python 3",
   "language": "python",
   "name": "python3"
  },
  "language_info": {
   "codemirror_mode": {
    "name": "ipython",
    "version": 3
   },
   "file_extension": ".py",
   "mimetype": "text/x-python",
   "name": "python",
   "nbconvert_exporter": "python",
   "pygments_lexer": "ipython3",
   "version": "3.9.6"
  }
 },
 "nbformat": 4,
 "nbformat_minor": 2
}
